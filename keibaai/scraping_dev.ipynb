{
 "cells": [
  {
   "cell_type": "code",
   "execution_count": 1,
   "id": "ec734324",
   "metadata": {},
   "outputs": [],
   "source": [
    "import os\n",
    "import logging.config\n",
    "import requests\n",
    "from bs4 import BeautifulSoup\n",
    "import re\n",
    "import sys"
   ]
  },
  {
   "cell_type": "code",
   "execution_count": 2,
   "id": "e4ffe8f7",
   "metadata": {},
   "outputs": [],
   "source": [
    "race_calendar_url = \"https://race.netkeiba.com/top/calendar.html\"\n",
    "year = 2021\n",
    "month = 1\n",
    "payload = {\"year\": year, \"month\": month}"
   ]
  },
  {
   "cell_type": "code",
   "execution_count": null,
   "id": "9cdd57a8",
   "metadata": {},
   "outputs": [],
   "source": [
    "r = requests.get(race_calendar_url, params=payload)\n",
    "r.text"
   ]
  },
  {
   "cell_type": "code",
   "execution_count": 4,
   "id": "8bfc4f94",
   "metadata": {},
   "outputs": [],
   "source": [
    "soup = BeautifulSoup(r.text, \"html.parser\")"
   ]
  },
  {
   "cell_type": "code",
   "execution_count": 5,
   "id": "55aea8e9",
   "metadata": {},
   "outputs": [
    {
     "data": {
      "text/plain": [
       "[<div class=\"Race_Calendar_Main\">\n",
       " <table class=\"Calendar_Table\">\n",
       " <tbody>\n",
       " <tr class=\"Header\">\n",
       " <th>·î</th>\n",
       " <th>²Ð</th>\n",
       " <th>¿å</th>\n",
       " <th>ÌÚ</th>\n",
       " <th>¶â</th>\n",
       " <th class=\"Sat_Cell\">ÅÚ</th>\n",
       " <th class=\"Sun_Cell\">Æü</th>\n",
       " </tr>\n",
       " <tr class=\"Week\">\n",
       " <td class=\"RaceCellBox\">\n",
       " <div class=\"RaceKaisaiBox\">\n",
       " <p><span class=\"Day\"></span></p>\n",
       " </div>\n",
       " </td><td class=\"RaceCellBox\">\n",
       " <div class=\"RaceKaisaiBox\">\n",
       " <p><span class=\"Day\"></span></p>\n",
       " </div>\n",
       " </td><td class=\"RaceCellBox\">\n",
       " <div class=\"RaceKaisaiBox\">\n",
       " <p><span class=\"Day\"></span></p>\n",
       " </div>\n",
       " </td><td class=\"RaceCellBox\">\n",
       " <div class=\"RaceKaisaiBox\">\n",
       " <p><span class=\"Day\"></span></p>\n",
       " </div>\n",
       " </td><td class=\"RaceCellBox\">\n",
       " <div class=\"RaceKaisaiBox\">\n",
       " <p><span class=\"Day\">1</span></p>\n",
       " </div>\n",
       " </td><td class=\"RaceCellBox\">\n",
       " <div class=\"RaceKaisaiBox\">\n",
       " <p><span class=\"Day\">2</span></p>\n",
       " </div>\n",
       " </td><td class=\"RaceCellBox\">\n",
       " <div class=\"RaceKaisaiBox\">\n",
       " <p><span class=\"Day\">3</span></p>\n",
       " </div>\n",
       " </td>\n",
       " </tr><tr class=\"Week\">\n",
       " <td class=\"RaceCellBox\">\n",
       " <div class=\"RaceKaisaiBox\">\n",
       " <p><span class=\"Day\">4</span></p>\n",
       " </div>\n",
       " </td><td class=\"RaceCellBox\">\n",
       " <a href=\"../top/race_list.html?kaisai_date=20210105\" target=\"_parent\" tile=\"\">\n",
       " <div class=\"RaceKaisaiBox HaveData\">\n",
       " <p><span class=\"Day\">5</span></p>\n",
       " <p><span class=\"JyoName\">Ãæ»³</span><span class=\"JName\">Ãæ»³¶âÇÕ</span></p>\n",
       " <p><span class=\"JyoName\">Ãæµþ</span><span class=\"JName\">µþÅÔ¶âÇÕ</span></p>\n",
       " </div><!-- /. RaceKaisaiBox-->\n",
       " </a>\n",
       " </td><td class=\"RaceCellBox\">\n",
       " <div class=\"RaceKaisaiBox\">\n",
       " <p><span class=\"Day\">6</span></p>\n",
       " </div>\n",
       " </td><td class=\"RaceCellBox\">\n",
       " <div class=\"RaceKaisaiBox\">\n",
       " <p><span class=\"Day\">7</span></p>\n",
       " </div>\n",
       " </td><td class=\"RaceCellBox\">\n",
       " <div class=\"RaceKaisaiBox\">\n",
       " <p><span class=\"Day\">8</span></p>\n",
       " </div>\n",
       " </td><td class=\"RaceCellBox\">\n",
       " <a href=\"../top/race_list.html?kaisai_date=20210109\" target=\"_parent\" tile=\"\">\n",
       " <div class=\"RaceKaisaiBox HaveData\">\n",
       " <p><span class=\"Day\">9</span></p>\n",
       " <p><span class=\"JyoName\">Ãæ»³</span></p>\n",
       " <p><span class=\"JyoName\">Ãæµþ</span></p>\n",
       " </div><!-- /. RaceKaisaiBox-->\n",
       " </a>\n",
       " </td><td class=\"RaceCellBox\">\n",
       " <a href=\"../top/race_list.html?kaisai_date=20210110\" target=\"_parent\" tile=\"\">\n",
       " <div class=\"RaceKaisaiBox HaveData\">\n",
       " <p><span class=\"Day\">10</span></p>\n",
       " <p><span class=\"JyoName\">Ãæ»³</span></p><p><span class=\"JyoName\">Ãæµþ</span><span class=\"JName\">¥·¥ó¥¶¥óµ­</span></p>\n",
       " </div><!-- /. RaceKaisaiBox-->\n",
       " </a>\n",
       " </td>\n",
       " </tr><tr class=\"Week\">\n",
       " <td class=\"RaceCellBox\">\n",
       " <a href=\"../top/race_list.html?kaisai_date=20210111\" target=\"_parent\" tile=\"\">\n",
       " <div class=\"RaceKaisaiBox HaveData\">\n",
       " <p><span class=\"Day\">11</span></p>\n",
       " <p><span class=\"JyoName\">Ãæ»³</span><span class=\"JName\">¥Õ¥§¥¢¥ê¡¼</span></p>\n",
       " <p><span class=\"JyoName\">Ãæµþ</span></p>\n",
       " </div><!-- /. RaceKaisaiBox-->\n",
       " </a>\n",
       " </td><td class=\"RaceCellBox\">\n",
       " <div class=\"RaceKaisaiBox\">\n",
       " <p><span class=\"Day\">12</span></p>\n",
       " </div>\n",
       " </td><td class=\"RaceCellBox\">\n",
       " <div class=\"RaceKaisaiBox\">\n",
       " <p><span class=\"Day\">13</span></p>\n",
       " </div>\n",
       " </td><td class=\"RaceCellBox\">\n",
       " <div class=\"RaceKaisaiBox\">\n",
       " <p><span class=\"Day\">14</span></p>\n",
       " </div>\n",
       " </td><td class=\"RaceCellBox\">\n",
       " <div class=\"RaceKaisaiBox\">\n",
       " <p><span class=\"Day\">15</span></p>\n",
       " </div>\n",
       " </td><td class=\"RaceCellBox\">\n",
       " <a href=\"../top/race_list.html?kaisai_date=20210116\" target=\"_parent\" tile=\"\">\n",
       " <div class=\"RaceKaisaiBox HaveData\">\n",
       " <p><span class=\"Day\">16</span></p>\n",
       " <p><span class=\"JyoName\">Ãæ»³</span></p><p><span class=\"JyoName\">Ãæµþ</span><span class=\"JName\">°¦ÃÎÇÕ</span></p>\n",
       " <p><span class=\"JyoName\">¾®ÁÒ</span></p>\n",
       " </div><!-- /. RaceKaisaiBox-->\n",
       " </a>\n",
       " </td><td class=\"RaceCellBox\">\n",
       " <a href=\"../top/race_list.html?kaisai_date=20210117\" target=\"_parent\" tile=\"\">\n",
       " <div class=\"RaceKaisaiBox HaveData\">\n",
       " <p><span class=\"Day\">17</span></p>\n",
       " <p><span class=\"JyoName\">Ãæ»³</span><span class=\"JName\">µþÀ®ÇÕ</span></p>\n",
       " <p><span class=\"JyoName\">Ãæµþ</span><span class=\"JName\">Æü·Ð¿·½ÕÇÕ</span></p>\n",
       " <p><span class=\"JyoName\">¾®ÁÒ</span></p>\n",
       " </div><!-- /. RaceKaisaiBox-->\n",
       " </a>\n",
       " </td>\n",
       " </tr><tr class=\"Week\">\n",
       " <td class=\"RaceCellBox\">\n",
       " <div class=\"RaceKaisaiBox\">\n",
       " <p><span class=\"Day\">18</span></p>\n",
       " </div>\n",
       " </td><td class=\"RaceCellBox\">\n",
       " <div class=\"RaceKaisaiBox\">\n",
       " <p><span class=\"Day\">19</span></p>\n",
       " </div>\n",
       " </td><td class=\"RaceCellBox\">\n",
       " <div class=\"RaceKaisaiBox\">\n",
       " <p><span class=\"Day\">20</span></p>\n",
       " </div>\n",
       " </td><td class=\"RaceCellBox\">\n",
       " <div class=\"RaceKaisaiBox\">\n",
       " <p><span class=\"Day\">21</span></p>\n",
       " </div>\n",
       " </td><td class=\"RaceCellBox\">\n",
       " <div class=\"RaceKaisaiBox\">\n",
       " <p><span class=\"Day\">22</span></p>\n",
       " </div>\n",
       " </td><td class=\"RaceCellBox\">\n",
       " <a href=\"../top/race_list.html?kaisai_date=20210123\" target=\"_parent\" tile=\"\">\n",
       " <div class=\"RaceKaisaiBox HaveData\">\n",
       " <p><span class=\"Day\">23</span></p>\n",
       " <p><span class=\"JyoName\">Ãæ»³</span></p>\n",
       " <p><span class=\"JyoName\">Ãæµþ</span></p>\n",
       " <p><span class=\"JyoName\">¾®ÁÒ</span></p>\n",
       " </div><!-- /. RaceKaisaiBox-->\n",
       " </a>\n",
       " </td><td class=\"RaceCellBox\">\n",
       " <a href=\"../top/race_list.html?kaisai_date=20210124\" target=\"_parent\" tile=\"\">\n",
       " <div class=\"RaceKaisaiBox HaveData\">\n",
       " <p><span class=\"Day\">24</span></p>\n",
       " <p><span class=\"JyoName\">Ãæ»³</span><span class=\"JName\">AJCC</span></p>\n",
       " <p><span class=\"JyoName\">Ãæµþ</span><span class=\"JName\">Åì³¤S</span></p>\n",
       " <p><span class=\"JyoName\">¾®ÁÒ</span></p>\n",
       " </div><!-- /. RaceKaisaiBox-->\n",
       " </a>\n",
       " </td>\n",
       " </tr><tr class=\"Week\">\n",
       " <td class=\"RaceCellBox\">\n",
       " <div class=\"RaceKaisaiBox\">\n",
       " <p><span class=\"Day\">25</span></p>\n",
       " </div>\n",
       " </td><td class=\"RaceCellBox\">\n",
       " <div class=\"RaceKaisaiBox\">\n",
       " <p><span class=\"Day\">26</span></p>\n",
       " </div>\n",
       " </td><td class=\"RaceCellBox\">\n",
       " <div class=\"RaceKaisaiBox\">\n",
       " <p><span class=\"Day\">27</span></p>\n",
       " </div>\n",
       " </td><td class=\"RaceCellBox\">\n",
       " <div class=\"RaceKaisaiBox\">\n",
       " <p><span class=\"Day\">28</span></p>\n",
       " </div>\n",
       " </td><td class=\"RaceCellBox\">\n",
       " <div class=\"RaceKaisaiBox\">\n",
       " <p><span class=\"Day\">29</span></p>\n",
       " </div>\n",
       " </td><td class=\"RaceCellBox\">\n",
       " <a href=\"../top/race_list.html?kaisai_date=20210130\" target=\"_parent\" tile=\"\">\n",
       " <div class=\"RaceKaisaiBox HaveData\">\n",
       " <p><span class=\"Day\">30</span></p>\n",
       " <p><span class=\"JyoName\">Åìµþ</span></p>\n",
       " <p><span class=\"JyoName\">Ãæµþ</span></p>\n",
       " <p><span class=\"JyoName\">¾®ÁÒ</span></p>\n",
       " </div><!-- /. RaceKaisaiBox-->\n",
       " </a>\n",
       " </td><td class=\"RaceCellBox\">\n",
       " <a href=\"../top/race_list.html?kaisai_date=20210131\" target=\"_parent\" tile=\"\">\n",
       " <div class=\"RaceKaisaiBox HaveData\">\n",
       " <p><span class=\"Day\">31</span></p>\n",
       " <p><span class=\"JyoName\">Åìµþ</span><span class=\"JName\">º¬´ßS</span></p>\n",
       " <p><span class=\"JyoName\">Ãæµþ</span><span class=\"JName\">¥·¥ë¥¯¥í¡¼</span></p>\n",
       " <p><span class=\"JyoName\">¾®ÁÒ</span></p>\n",
       " </div><!-- /. RaceKaisaiBox-->\n",
       " </a>\n",
       " </td>\n",
       " </tr>\n",
       " </tbody>\n",
       " </table>\n",
       " </div>]"
      ]
     },
     "execution_count": 5,
     "metadata": {},
     "output_type": "execute_result"
    }
   ],
   "source": [
    "race_calendar_main = soup.find_all(class_=\"Race_Calendar_Main\")\n",
    "race_calendar_main"
   ]
  },
  {
   "cell_type": "code",
   "execution_count": null,
   "id": "2a20d18d",
   "metadata": {},
   "outputs": [],
   "source": [
    "race_links = soup.find_all(\"a\", attrs={\"target\": \"_parent\"})\n",
    "race_links"
   ]
  },
  {
   "cell_type": "code",
   "execution_count": 7,
   "id": "0bc4d3ec",
   "metadata": {},
   "outputs": [
    {
     "data": {
      "text/plain": [
       "['../top/race_list.html?kaisai_date=20210105',\n",
       " '../top/race_list.html?kaisai_date=20210109',\n",
       " '../top/race_list.html?kaisai_date=20210110',\n",
       " '../top/race_list.html?kaisai_date=20210111',\n",
       " '../top/race_list.html?kaisai_date=20210116',\n",
       " '../top/race_list.html?kaisai_date=20210117',\n",
       " '../top/race_list.html?kaisai_date=20210123',\n",
       " '../top/race_list.html?kaisai_date=20210124',\n",
       " '../top/race_list.html?kaisai_date=20210130',\n",
       " '../top/race_list.html?kaisai_date=20210131']"
      ]
     },
     "execution_count": 7,
     "metadata": {},
     "output_type": "execute_result"
    }
   ],
   "source": [
    "hrefs = [x.attrs[\"href\"] for x in race_links if \"kaisai_date\" in x.attrs[\"href\"]]\n",
    "hrefs"
   ]
  },
  {
   "cell_type": "code",
   "execution_count": 8,
   "id": "dc846f3b",
   "metadata": {},
   "outputs": [
    {
     "data": {
      "text/plain": [
       "['20210105',\n",
       " '20210109',\n",
       " '20210110',\n",
       " '20210111',\n",
       " '20210116',\n",
       " '20210117',\n",
       " '20210123',\n",
       " '20210124',\n",
       " '20210130',\n",
       " '20210131']"
      ]
     },
     "execution_count": 8,
     "metadata": {},
     "output_type": "execute_result"
    }
   ],
   "source": [
    "kaisai_dates = []\n",
    "for href in hrefs:\n",
    "    kaisai_dates.append(re.search(r\"\\d{8}\", href).group())\n",
    "kaisai_dates"
   ]
  },
  {
   "cell_type": "code",
   "execution_count": 9,
   "id": "0d4c9a57",
   "metadata": {},
   "outputs": [],
   "source": [
    "race_list_url=\"https://race.netkeiba.com/top/race_list.html\"\n",
    "payload2 = {\"kaisai_date\": 20210131}"
   ]
  },
  {
   "cell_type": "code",
   "execution_count": null,
   "id": "551b7be0",
   "metadata": {},
   "outputs": [],
   "source": [
    "from requests_html import AsyncHTMLSession\n",
    "assesion = AsyncHTMLSession()\n",
    "r2 = await assesion.get(race_list_url, params=payload2)\n",
    "await r2.html.arender(wait=1, sleep=20)\n",
    "\n",
    "r2.encoding = r2.apparent_encoding  \n",
    "r2.text"
   ]
  },
  {
   "cell_type": "code",
   "execution_count": 16,
   "id": "7477a9ef",
   "metadata": {},
   "outputs": [],
   "source": [
    "soup2 = BeautifulSoup(r2.text, \"html.parser\")"
   ]
  },
  {
   "cell_type": "code",
   "execution_count": 42,
   "id": "7b98d682",
   "metadata": {},
   "outputs": [
    {
     "data": {
      "text/plain": [
       "['202105010201',\n",
       " '202105010202',\n",
       " '202105010203',\n",
       " '202105010204',\n",
       " '202105010205',\n",
       " '202105010206',\n",
       " '202105010207',\n",
       " '202105010208',\n",
       " '202105010209',\n",
       " '202105010210',\n",
       " '202105010211',\n",
       " '202105010212',\n",
       " '202107011001',\n",
       " '202107011002',\n",
       " '202107011003',\n",
       " '202107011004',\n",
       " '202107011005',\n",
       " '202107011006',\n",
       " '202107011007',\n",
       " '202107011008',\n",
       " '202107011009',\n",
       " '202107011010',\n",
       " '202107011011',\n",
       " '202107011012',\n",
       " '202110010601',\n",
       " '202110010602',\n",
       " '202110010603',\n",
       " '202110010604',\n",
       " '202110010605',\n",
       " '202110010606',\n",
       " '202110010607',\n",
       " '202110010608',\n",
       " '202110010609',\n",
       " '202110010610',\n",
       " '202110010611',\n",
       " '202110010612']"
      ]
     },
     "execution_count": 42,
     "metadata": {},
     "output_type": "execute_result"
    }
   ],
   "source": [
    "all_links = soup2.find_all(\"a\")\n",
    "race_ids =  [re.search(r\"\\d+\", x.attrs[\"href\"]).group() for x in all_links if \"result.html\" in x.attrs.get(\"href\", \"no href\")]\n",
    "race_ids"
   ]
  },
  {
   "cell_type": "code",
   "execution_count": 17,
   "id": "03ba5425",
   "metadata": {},
   "outputs": [
    {
     "name": "stderr",
     "output_type": "stream",
     "text": [
      "\n",
      "\n",
      "====== WebDriver manager ======\n",
      "Current google-chrome version is 96.0.4664\n",
      "Get LATEST chromedriver version for 96.0.4664 google-chrome\n",
      "Trying to download new driver from https://chromedriver.storage.googleapis.com/96.0.4664.45/chromedriver_win32.zip\n",
      "Driver has been saved in cache [C:\\Users\\shun8\\.wdm\\drivers\\chromedriver\\win32\\96.0.4664.45]\n",
      "<ipython-input-17-831eb97c1f69>:7: DeprecationWarning: executable_path has been deprecated, please pass in a Service object\n",
      "  driver = webdriver.Chrome(ChromeDriverManager().install(), options=options)\n"
     ]
    }
   ],
   "source": [
    "from selenium import webdriver\n",
    "from webdriver_manager.chrome import ChromeDriverManager\n",
    "import urllib\n",
    "\n",
    "options = webdriver.ChromeOptions()\n",
    "options.add_argument('--headless')\n",
    "driver = webdriver.Chrome(ChromeDriverManager().install(), options=options)"
   ]
  },
  {
   "cell_type": "code",
   "execution_count": 38,
   "id": "06c4f3ce",
   "metadata": {},
   "outputs": [],
   "source": [
    "qs = urllib.parse.urlencode(payload2)\n",
    "driver.get(race_list_url + \"?\" + qs)"
   ]
  },
  {
   "cell_type": "code",
   "execution_count": 39,
   "id": "ca61ea96",
   "metadata": {},
   "outputs": [],
   "source": [
    "html = driver.page_source"
   ]
  },
  {
   "cell_type": "code",
   "execution_count": null,
   "id": "501152c4",
   "metadata": {},
   "outputs": [],
   "source": [
    "html"
   ]
  },
  {
   "cell_type": "code",
   "execution_count": 41,
   "id": "6d20564c",
   "metadata": {},
   "outputs": [],
   "source": [
    "soup2 = BeautifulSoup(html, \"html.parser\")"
   ]
  },
  {
   "cell_type": "code",
   "execution_count": 45,
   "id": "83ad285e",
   "metadata": {},
   "outputs": [
    {
     "data": {
      "text/plain": [
       "['202105010201',\n",
       " '202105010202',\n",
       " '202105010203',\n",
       " '202105010204',\n",
       " '202105010205',\n",
       " '202105010206',\n",
       " '202105010207',\n",
       " '202105010208',\n",
       " '202105010209',\n",
       " '202105010210',\n",
       " '202105010211',\n",
       " '202105010212',\n",
       " '202107011001',\n",
       " '202107011002',\n",
       " '202107011003',\n",
       " '202107011004',\n",
       " '202107011005',\n",
       " '202107011006',\n",
       " '202107011007',\n",
       " '202107011008',\n",
       " '202107011009',\n",
       " '202107011010',\n",
       " '202107011011',\n",
       " '202107011012',\n",
       " '202110010601',\n",
       " '202110010602',\n",
       " '202110010603',\n",
       " '202110010604',\n",
       " '202110010605',\n",
       " '202110010606',\n",
       " '202110010607',\n",
       " '202110010608',\n",
       " '202110010609',\n",
       " '202110010610',\n",
       " '202110010611',\n",
       " '202110010612']"
      ]
     },
     "execution_count": 45,
     "metadata": {},
     "output_type": "execute_result"
    }
   ],
   "source": [
    "all_links = soup2.find_all(\"a\")\n",
    "race_ids =  [re.search(r\"\\d{12}\", x.attrs[\"href\"]).group() for x in all_links if \"result.html\" in x.attrs.get(\"href\", \"no href\")]\n",
    "race_ids"
   ]
  },
  {
   "cell_type": "code",
   "execution_count": 46,
   "id": "89f43a3d",
   "metadata": {},
   "outputs": [],
   "source": [
    "race_url=\"https://race.netkeiba.com/race/result.html\"\n",
    "payload3 = {\"race_id\": race_ids[0]}"
   ]
  },
  {
   "cell_type": "code",
   "execution_count": 47,
   "id": "4087e1a9",
   "metadata": {},
   "outputs": [],
   "source": [
    "qs2 = urllib.parse.urlencode(payload3)\n",
    "driver.get(race_url + \"?\" + qs2)"
   ]
  },
  {
   "cell_type": "code",
   "execution_count": null,
   "id": "b3d28a52",
   "metadata": {},
   "outputs": [],
   "source": [
    "html2 = driver.page_source\n",
    "html2"
   ]
  },
  {
   "cell_type": "code",
   "execution_count": 22,
   "id": "520be496",
   "metadata": {},
   "outputs": [],
   "source": [
    "odds_url = 'https://race.netkeiba.com/odds/index.html'\n",
    "payload4 = {\"race_id\": \"202109060411\", \"type\": \"b1\"}\n",
    "qs4 = urllib.parse.urlencode(payload4)\n",
    "driver.get(odds_url + \"?\" + qs4)\n",
    "html4 = driver.page_source\n",
    "soup4 = BeautifulSoup(html4, \"html.parser\")"
   ]
  },
  {
   "cell_type": "code",
   "execution_count": 23,
   "id": "26b6fb43",
   "metadata": {},
   "outputs": [
    {
     "data": {
      "text/plain": [
       "<div class=\"RaceData01\">\n",
       "15:40発走 /<!-- <span class=\"Turf\"> --><span> 芝1600m</span> (右 外)\n",
       "/ 天候:晴<span class=\"Icon_Weather Weather01\"></span>\n",
       "<span class=\"Item03\">/ 馬場:良</span>\n",
       "</div>"
      ]
     },
     "execution_count": 23,
     "metadata": {},
     "output_type": "execute_result"
    }
   ],
   "source": [
    "race_data = soup4.select_one('.RaceData01')\n",
    "race_data"
   ]
  },
  {
   "cell_type": "code",
   "execution_count": 24,
   "id": "dfe9d27c",
   "metadata": {},
   "outputs": [
    {
     "data": {
      "text/plain": [
       "['\\n15:40発走 /',\n",
       " ' <span class=\"Turf\"> ',\n",
       " <span> 芝1600m</span>,\n",
       " ' (右 外)\\n/ 天候:晴',\n",
       " <span class=\"Icon_Weather Weather01\"></span>,\n",
       " '\\n',\n",
       " <span class=\"Item03\">/ 馬場:良</span>,\n",
       " '\\n']"
      ]
     },
     "execution_count": 24,
     "metadata": {},
     "output_type": "execute_result"
    }
   ],
   "source": [
    "race_data.contents"
   ]
  },
  {
   "cell_type": "code",
   "execution_count": 25,
   "id": "f715e26d",
   "metadata": {},
   "outputs": [
    {
     "data": {
      "text/plain": [
       "<span class=\"Odds transition-color\" id=\"odds-1_01\">11.9</span>"
      ]
     },
     "execution_count": 25,
     "metadata": {},
     "output_type": "execute_result"
    }
   ],
   "source": [
    "u = 1\n",
    "soup4.select_one(f\"#odds-1_{u:02}\")"
   ]
  },
  {
   "cell_type": "code",
   "execution_count": 27,
   "id": "60179eae",
   "metadata": {},
   "outputs": [
    {
     "data": {
      "text/plain": [
       "'11.9'"
      ]
     },
     "execution_count": 27,
     "metadata": {},
     "output_type": "execute_result"
    }
   ],
   "source": [
    "soup4.select_one(f\"#odds-1_{u:02}\").contents[0]"
   ]
  },
  {
   "cell_type": "code",
   "execution_count": null,
   "id": "7c3abd06",
   "metadata": {},
   "outputs": [],
   "source": []
  }
 ],
 "metadata": {
  "interpreter": {
   "hash": "8cabf4a2db707ed63099d474157b2f0eae562b8a89b6f931fb7c0bc4308d7f9c"
  },
  "kernelspec": {
   "display_name": "Python 3",
   "language": "python",
   "name": "python3"
  },
  "language_info": {
   "codemirror_mode": {
    "name": "ipython",
    "version": 3
   },
   "file_extension": ".py",
   "mimetype": "text/x-python",
   "name": "python",
   "nbconvert_exporter": "python",
   "pygments_lexer": "ipython3",
   "version": "3.8.1"
  }
 },
 "nbformat": 4,
 "nbformat_minor": 5
}
