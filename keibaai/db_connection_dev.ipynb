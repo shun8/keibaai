{
 "cells": [
  {
   "cell_type": "code",
   "execution_count": 1,
   "id": "cfd49475",
   "metadata": {},
   "outputs": [],
   "source": [
    "from sqlalchemy import create_engine\n",
    "from sqlalchemy.orm import sessionmaker"
   ]
  },
  {
   "cell_type": "code",
   "execution_count": 2,
   "id": "d0996e23",
   "metadata": {},
   "outputs": [],
   "source": [
    "import os\n",
    "import yaml"
   ]
  },
  {
   "cell_type": "code",
   "execution_count": 3,
   "id": "1866ecbd",
   "metadata": {},
   "outputs": [
    {
     "name": "stdout",
     "output_type": "stream",
     "text": [
      "select sysdate from dual\n",
      "(datetime.datetime(2022, 4, 17, 1, 35, 30),)\n"
     ]
    }
   ],
   "source": [
    "import cx_Oracle\n",
    "#base = os.path.dirname(os.path.abspath(__file__))\n",
    "from pathlib import Path\n",
    "base = Path().resolve()\n",
    "db_conf_file = os.path.normpath(os.path.join(base, \"../conf/db_connection.yaml\"))\n",
    "with open(db_conf_file, \"r\", encoding=\"utf-8\") as l_file:\n",
    "    db_conf_all = yaml.safe_load(l_file)\n",
    "\n",
    "ora_conf = db_conf_all[\"oracle\"]\n",
    "conn=cx_Oracle.connect(user=ora_conf[\"username\"],password=ora_conf[\"password\"],dsn=ora_conf[\"dsn\"])\n",
    "\n",
    "sql=\"select sysdate from dual\"\n",
    "print(sql)\n",
    "cur = conn.cursor()\n",
    "for row in cur.execute(sql):\n",
    "    print(row)"
   ]
  },
  {
   "cell_type": "code",
   "execution_count": 4,
   "id": "2bd0bb91",
   "metadata": {},
   "outputs": [],
   "source": [
    "engine = create_engine(f\"oracle://{ora_conf['username']}:{ora_conf['password']}@{ora_conf['dsn']}/?encoding=UTF-8&nencoding=UTF-8\")\n",
    "smkr = sessionmaker(bind=engine)"
   ]
  },
  {
   "cell_type": "code",
   "execution_count": 5,
   "id": "6fdfc2cc",
   "metadata": {},
   "outputs": [
    {
     "name": "stdout",
     "output_type": "stream",
     "text": [
      "2022-04-17 01:35:45\n"
     ]
    }
   ],
   "source": [
    "with engine.connect() as conn:\n",
    "    print(conn.scalar(\"select sysdate from dual\"))"
   ]
  },
  {
   "cell_type": "code",
   "execution_count": null,
   "id": "5806bd5a",
   "metadata": {},
   "outputs": [],
   "source": [
    "session = smkr()"
   ]
  }
 ],
 "metadata": {
  "kernelspec": {
   "display_name": "Python 3",
   "language": "python",
   "name": "python3"
  },
  "language_info": {
   "codemirror_mode": {
    "name": "ipython",
    "version": 3
   },
   "file_extension": ".py",
   "mimetype": "text/x-python",
   "name": "python",
   "nbconvert_exporter": "python",
   "pygments_lexer": "ipython3",
   "version": "3.8.1"
  }
 },
 "nbformat": 4,
 "nbformat_minor": 5
}
