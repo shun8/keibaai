{
 "cells": [
  {
   "cell_type": "code",
   "execution_count": 1,
   "id": "9016c123",
   "metadata": {},
   "outputs": [],
   "source": [
    "import cx_Oracle\n",
    "from sqlalchemy import create_engine\n",
    "from sqlalchemy.pool import NullPool\n",
    "import sys"
   ]
  },
  {
   "cell_type": "code",
   "execution_count": 7,
   "id": "4fd7cdd6",
   "metadata": {},
   "outputs": [
    {
     "data": {
      "text/plain": [
       "True"
      ]
     },
     "execution_count": 7,
     "metadata": {},
     "output_type": "execute_result"
    }
   ],
   "source": [
    "import datetime\n",
    "test = datetime.datetime.strptime(\"202003\", \"%Y%m\")\n",
    "test2 = datetime.datetime.strptime(\"202004\", \"%Y%m\")\n",
    "(test < test2)"
   ]
  },
  {
   "cell_type": "code",
   "execution_count": 11,
   "id": "2e5011b8",
   "metadata": {},
   "outputs": [],
   "source": [
    "t = \"\"\n",
    "if t:\n",
    "    print(\"T\")"
   ]
  },
  {
   "cell_type": "code",
   "execution_count": null,
   "id": "f23839b6",
   "metadata": {},
   "outputs": [],
   "source": []
  }
 ],
 "metadata": {
  "kernelspec": {
   "display_name": "Python 3",
   "language": "python",
   "name": "python3"
  },
  "language_info": {
   "codemirror_mode": {
    "name": "ipython",
    "version": 3
   },
   "file_extension": ".py",
   "mimetype": "text/x-python",
   "name": "python",
   "nbconvert_exporter": "python",
   "pygments_lexer": "ipython3",
   "version": "3.8.1"
  }
 },
 "nbformat": 4,
 "nbformat_minor": 5
}
