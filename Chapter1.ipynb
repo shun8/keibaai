{
 "cells": [
  {
   "cell_type": "code",
   "execution_count": 5,
   "id": "93320a83",
   "metadata": {},
   "outputs": [],
   "source": [
    "import numpy as np\n",
    "import matplotlib.pyplot as plt"
   ]
  },
  {
   "cell_type": "code",
   "execution_count": 6,
   "id": "9742e730",
   "metadata": {},
   "outputs": [],
   "source": [
    "D = 100\n",
    "N = 2\n",
    "xdata = np.random.randn(D*N).reshape(D,N).astype(np.float32)"
   ]
  },
  {
   "cell_type": "code",
   "execution_count": 7,
   "id": "19317f81",
   "metadata": {},
   "outputs": [
    {
     "name": "stdout",
     "output_type": "stream",
     "text": [
      "[[-1.5820684   0.6281424 ]\n",
      " [-0.06637337 -0.20521696]\n",
      " [ 0.5725409  -0.35834387]\n",
      " [-0.2771663  -1.6061776 ]\n",
      " [-0.26593378 -1.5056286 ]\n",
      " [ 0.6354836  -0.6860064 ]\n",
      " [-0.83017457 -0.8679544 ]\n",
      " [ 0.14119758  1.0510399 ]\n",
      " [ 1.0323122   1.7784712 ]\n",
      " [ 0.11314055  0.52704006]\n",
      " [ 1.876453   -0.01906746]\n",
      " [ 1.0068805   0.23156159]\n",
      " [ 0.09895495 -0.29596776]\n",
      " [ 0.99768317  1.0062672 ]\n",
      " [ 0.28157175 -0.07995157]\n",
      " [-0.4047982  -0.4721364 ]\n",
      " [ 0.29308426  0.04893758]\n",
      " [ 0.16921529  0.6090995 ]\n",
      " [ 0.7611986   1.3662664 ]\n",
      " [-0.10977234  0.9333795 ]\n",
      " [-1.5972316   0.9064309 ]\n",
      " [ 1.1388105   1.0005949 ]\n",
      " [-0.2388994   0.74683344]\n",
      " [-0.7087585   1.7406403 ]\n",
      " [ 0.4446148   1.0570904 ]\n",
      " [-1.2925098   0.94431055]\n",
      " [-0.02427015  1.7950817 ]\n",
      " [ 0.24383028  0.32528394]\n",
      " [ 0.5050206  -0.31458008]\n",
      " [-1.1162225   0.71766686]\n",
      " [-1.6218102   0.04696974]\n",
      " [-0.83019555  1.1707579 ]\n",
      " [-0.904966   -0.2690344 ]\n",
      " [ 1.6320351   0.83171165]\n",
      " [ 0.7002202   0.26677454]\n",
      " [ 0.6042113  -0.52220654]\n",
      " [ 1.1882535   0.80338585]\n",
      " [-0.94953704 -0.88324815]\n",
      " [ 1.1940954  -0.00506078]\n",
      " [ 0.9036577   0.03991427]\n",
      " [ 1.6551838   0.85108644]\n",
      " [-0.96828765 -1.5430079 ]\n",
      " [ 0.50454247 -1.3237801 ]\n",
      " [ 0.6007119   1.3656844 ]\n",
      " [-0.785101    0.8227665 ]\n",
      " [-1.1785796   1.4706672 ]\n",
      " [-0.45975494 -1.174098  ]\n",
      " [-1.4638294   0.47211894]\n",
      " [-0.6487079   1.1661677 ]\n",
      " [-1.407185   -0.7318112 ]\n",
      " [-0.25023186 -0.7236499 ]\n",
      " [-1.6145732  -0.9016977 ]\n",
      " [-0.56520927 -0.4271078 ]\n",
      " [ 0.8707854  -0.98569524]\n",
      " [ 2.2297566   0.96530735]\n",
      " [-0.55118334  1.2725122 ]\n",
      " [-0.31475288 -0.6652916 ]\n",
      " [ 0.24218032  0.00387142]\n",
      " [-0.36754337 -0.6931974 ]\n",
      " [-0.1575722   1.2282225 ]\n",
      " [ 0.9562463  -0.84028614]\n",
      " [ 0.72116405 -0.60554296]\n",
      " [-2.1273074  -0.4151727 ]\n",
      " [-0.1992442  -0.26541042]\n",
      " [-1.0432506  -2.1649394 ]\n",
      " [ 1.4063864  -0.57543135]\n",
      " [-0.26228273 -0.32556537]\n",
      " [ 0.6595778  -0.17544287]\n",
      " [ 0.701176    0.4816743 ]\n",
      " [ 1.7967844   0.8126972 ]\n",
      " [-0.2699251   0.68847764]\n",
      " [-1.0991781  -2.3021579 ]\n",
      " [ 0.38859728 -0.47786036]\n",
      " [ 0.13812886 -0.58028895]\n",
      " [ 0.6058172   0.8952369 ]\n",
      " [ 0.21724018 -0.40081668]\n",
      " [ 0.08170295 -0.25064036]\n",
      " [ 0.24358417  0.28375784]\n",
      " [-0.9801434  -0.77771735]\n",
      " [ 0.1971733  -1.206963  ]\n",
      " [-0.96378535  0.7180094 ]\n",
      " [ 0.25990355 -0.52784777]\n",
      " [-1.9762846  -0.4053375 ]\n",
      " [-1.621887   -2.2409518 ]\n",
      " [ 0.6401691  -0.58837837]\n",
      " [-0.48696378 -1.4599571 ]\n",
      " [ 2.019703    0.11367112]\n",
      " [-1.5163716   1.9229923 ]\n",
      " [ 0.214908    1.6995952 ]\n",
      " [ 0.02847408 -0.49028262]\n",
      " [ 1.0396267   1.4806572 ]\n",
      " [-0.10380397 -0.0702778 ]\n",
      " [-0.72234863 -0.07569022]\n",
      " [ 0.5864345  -1.0549766 ]\n",
      " [-0.4711867   0.46404997]\n",
      " [-1.5308806   0.26766992]\n",
      " [ 1.49561    -0.87543344]\n",
      " [ 1.966264   -0.36183602]\n",
      " [-1.3173385   0.5888106 ]\n",
      " [-0.32705268 -0.42581853]]\n"
     ]
    }
   ],
   "source": [
    "print(xdata)"
   ]
  },
  {
   "cell_type": "code",
   "execution_count": 8,
   "id": "8ba06f2f",
   "metadata": {},
   "outputs": [
    {
     "data": {
      "image/png": "[encoded data removed]",
      "text/plain": [
       "<Figure size 432x288 with 1 Axes>"
      ]
     },
     "metadata": {
      "needs_background": "light"
     },
     "output_type": "display_data"
    }
   ],
   "source": [
    "plt.scatter(xdata[:,0],xdata[:,1])\n",
    "plt.show()"
   ]
  },
  {
   "cell_type": "code",
   "execution_count": 10,
   "id": "59af1ac8",
   "metadata": {},
   "outputs": [],
   "source": [
    "def f(x):\n",
    "    y = x*x\n",
    "    return y"
   ]
  },
  {
   "cell_type": "code",
   "execution_count": 12,
   "id": "40bd3e1a",
   "metadata": {},
   "outputs": [],
   "source": [
    "tdata = (xdata[:,1] > f(xdata[:,0])).astype(np.int32)"
   ]
  },
  {
   "cell_type": "code",
   "execution_count": 13,
   "id": "1c493b6a",
   "metadata": {},
   "outputs": [
    {
     "name": "stdout",
     "output_type": "stream",
     "text": [
      "[0 0 0 0 0 0 0 1 1 1 0 0 0 1 0 0 0 1 1 1 0 0 1 1 1 0 1 1 0 0 0 1 0 0 0 0 0\n",
      " 0 0 0 0 0 0 1 1 1 0 0 1 0 0 0 0 0 0 1 0 0 0 1 0 0 0 0 0 0 0 0 0 0 1 0 0 0\n",
      " 1 0 0 1 0 0 0 0 0 0 0 0 0 0 1 0 1 0 0 0 1 0 0 0 0 0]\n"
     ]
    }
   ],
   "source": [
    "print(tdata)"
   ]
  },
  {
   "cell_type": "code",
   "execution_count": 14,
   "id": "03ab3a3c",
   "metadata": {},
   "outputs": [
    {
     "data": {
      "text/plain": [
       "array([0, 0, 0, 0, 0, 0, 0, 1, 1, 1, 0, 0, 0, 1, 0, 0, 0, 1, 1, 1, 0, 0,\n",
       "       1, 1, 1, 0, 1, 1, 0, 0, 0, 1, 0, 0, 0, 0, 0, 0, 0, 0, 0, 0, 0, 1,\n",
       "       1, 1, 0, 0, 1, 0, 0, 0, 0, 0, 0, 1, 0, 0, 0, 1, 0, 0, 0, 0, 0, 0,\n",
       "       0, 0, 0, 0, 1, 0, 0, 0, 1, 0, 0, 1, 0, 0, 0, 0, 0, 0, 0, 0, 0, 0,\n",
       "       1, 0, 1, 0, 0, 0, 1, 0, 0, 0, 0, 0])"
      ]
     },
     "execution_count": 14,
     "metadata": {},
     "output_type": "execute_result"
    }
   ],
   "source": [
    "tdata"
   ]
  },
  {
   "cell_type": "code",
   "execution_count": 15,
   "id": "539a6d61",
   "metadata": {},
   "outputs": [
    {
     "name": "stdout",
     "output_type": "stream",
     "text": [
      "(100,)\n"
     ]
    }
   ],
   "source": [
    "print(tdata.shape)"
   ]
  },
  {
   "cell_type": "code",
   "execution_count": 16,
   "id": "ed9442db",
   "metadata": {},
   "outputs": [],
   "source": [
    "ndata0 = np.where(tdata==0)\n",
    "ndata1 = np.where(tdata==1)"
   ]
  },
  {
   "cell_type": "code",
   "execution_count": 17,
   "id": "05d74081",
   "metadata": {},
   "outputs": [
    {
     "name": "stdout",
     "output_type": "stream",
     "text": [
      "(array([ 0,  1,  2,  3,  4,  5,  6, 10, 11, 12, 14, 15, 16, 20, 21, 25, 28,\n",
      "       29, 30, 32, 33, 34, 35, 36, 37, 38, 39, 40, 41, 42, 46, 47, 49, 50,\n",
      "       51, 52, 53, 54, 56, 57, 58, 60, 61, 62, 63, 64, 65, 66, 67, 68, 69,\n",
      "       71, 72, 73, 75, 76, 78, 79, 80, 81, 82, 83, 84, 85, 86, 87, 89, 91,\n",
      "       92, 93, 95, 96, 97, 98, 99], dtype=int64),)\n"
     ]
    }
   ],
   "source": [
    "print(ndata0)"
   ]
  },
  {
   "cell_type": "code",
   "execution_count": 23,
   "id": "0e63a70a",
   "metadata": {},
   "outputs": [
    {
     "name": "stdout",
     "output_type": "stream",
     "text": [
      "(array([ 7,  8,  9, 13, 17, 18, 19, 22, 23, 24, 26, 27, 31, 43, 44, 45, 48,\n",
      "       55, 59, 70, 74, 77, 88, 90, 94], dtype=int64),)\n"
     ]
    }
   ],
   "source": [
    "print(ndata1)"
   ]
  },
  {
   "cell_type": "code",
   "execution_count": 25,
   "id": "8005c21a",
   "metadata": {},
   "outputs": [
    {
     "data": {
      "image/png": "[encoded data removed]",
      "text/plain": [
       "<Figure size 432x288 with 1 Axes>"
      ]
     },
     "metadata": {
      "needs_background": "light"
     },
     "output_type": "display_data"
    }
   ],
   "source": [
    "x = np.linspace(-2.0,2.0,D)\n",
    "plt.plot(x,f(x))\n",
    "plt.scatter(xdata[ndata0,0],xdata[ndata0,1],marker=\"x\")\n",
    "plt.scatter(xdata[ndata1,0],xdata[ndata1,1],marker=\"o\")\n",
    "plt.show()"
   ]
  },
  {
   "cell_type": "code",
   "execution_count": null,
   "id": "6b2d1471",
   "metadata": {},
   "outputs": [],
   "source": []
  }
 ],
 "metadata": {
  "kernelspec": {
   "display_name": "Python 3",
   "language": "python",
   "name": "python3"
  },
  "language_info": {
   "codemirror_mode": {
    "name": "ipython",
    "version": 3
   },
   "file_extension": ".py",
   "mimetype": "text/x-python",
   "name": "python",
   "nbconvert_exporter": "python",
   "pygments_lexer": "ipython3",
   "version": "3.8.1"
  }
 },
 "nbformat": 4,
 "nbformat_minor": 5
}
