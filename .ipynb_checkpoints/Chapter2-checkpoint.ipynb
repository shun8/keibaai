{
 "cells": [
  {
   "cell_type": "code",
   "execution_count": 1,
   "id": "662a1e07",
   "metadata": {},
   "outputs": [],
   "source": [
    "import chainer.optimizers as Opt\n",
    "import chainer.functions as F\n",
    "import chainer.links as L\n",
    "from chainer import Variable,Chain,config"
   ]
  },
  {
   "cell_type": "code",
   "execution_count": 2,
   "id": "17714597",
   "metadata": {},
   "outputs": [],
   "source": [
    "import numpy as np\n",
    "import matplotlib.pyplot as plt\n",
    "\n",
    "D = 100\n",
    "N = 2\n",
    "xdata = np.random.randn(D*N).reshape(D,N).astype(np.float32)\n",
    "\n",
    "def f(x):\n",
    "    y = x*x\n",
    "    return y\n",
    "\n",
    "tdata = (xdata[:,1] > f(xdata[:,0])).astype(np.int32)"
   ]
  },
  {
   "cell_type": "code",
   "execution_count": 5,
   "id": "b243b46a",
   "metadata": {},
   "outputs": [],
   "source": [
    "C = 2\n",
    "NN = Chain(l1=L.Linear(N,C))"
   ]
  },
  {
   "cell_type": "code",
   "execution_count": 6,
   "id": "d5fd9bf1",
   "metadata": {},
   "outputs": [],
   "source": [
    "def model(x):\n",
    "    y = NN.l1(x)\n",
    "    return y"
   ]
  },
  {
   "cell_type": "code",
   "execution_count": 7,
   "id": "a4e9070b",
   "metadata": {},
   "outputs": [
    {
     "name": "stdout",
     "output_type": "stream",
     "text": [
      "variable([[ 1.63186956e-02  7.09075272e-01]\n",
      "          [ 1.64852142e-01  1.38964844e+00]\n",
      "          [-7.88191184e-02 -7.99098134e-01]\n",
      "          [ 9.78370607e-02  1.06450987e+00]\n",
      "          [ 1.57073051e-01  1.46460950e+00]\n",
      "          [ 6.18419200e-02  5.12923062e-01]\n",
      "          [-1.19999222e-01 -9.92581964e-01]\n",
      "          [-4.12536323e-01 -3.12668586e+00]\n",
      "          [-3.24750155e-01 -2.40331244e+00]\n",
      "          [ 1.01253562e-01  9.41144824e-01]\n",
      "          [-1.00507811e-01 -2.87142545e-01]\n",
      "          [ 7.15506747e-02  2.55765229e-01]\n",
      "          [-7.18076378e-02 -1.05314541e+00]\n",
      "          [-4.30883393e-02 -2.47866824e-01]\n",
      "          [-1.36725932e-01 -1.08421659e+00]\n",
      "          [-1.37233885e-03 -4.77797426e-02]\n",
      "          [-1.19098552e-01 -5.98994970e-01]\n",
      "          [ 3.03331781e-02  1.89679027e-01]\n",
      "          [-3.46794814e-01 -3.25537801e+00]\n",
      "          [ 2.45985880e-01  2.06793022e+00]\n",
      "          [-1.65823340e-01 -1.09819436e+00]\n",
      "          [ 7.91004002e-02  6.93100452e-01]\n",
      "          [ 1.18023930e-02  1.50486641e-02]\n",
      "          [ 9.03549716e-02  1.38468468e+00]\n",
      "          [ 8.69632959e-02  1.49850297e+00]\n",
      "          [-1.79657236e-01 -1.33412397e+00]\n",
      "          [-2.74650753e-01 -2.25984168e+00]\n",
      "          [-3.68981324e-02 -6.86360180e-01]\n",
      "          [-3.37685496e-02 -2.08240464e-01]\n",
      "          [-3.26832756e-02 -8.13367665e-01]\n",
      "          [ 3.59565485e-03 -8.34678113e-01]\n",
      "          [-1.77856669e-01 -1.16439116e+00]\n",
      "          [ 6.82832748e-02  5.23159862e-01]\n",
      "          [ 1.96278289e-01  1.98844767e+00]\n",
      "          [ 1.90790132e-01  2.59705615e+00]\n",
      "          [-1.89929008e-01 -1.50983655e+00]\n",
      "          [-2.02092528e-02 -1.92988634e-01]\n",
      "          [-9.20818374e-02  4.97271299e-01]\n",
      "          [-1.33636966e-01 -1.99417269e+00]\n",
      "          [-1.13039717e-01 -4.86305058e-01]\n",
      "          [ 6.92247227e-02  9.51557577e-01]\n",
      "          [ 2.12667614e-01  1.58087170e+00]\n",
      "          [ 2.48079970e-02 -1.49724573e-01]\n",
      "          [ 7.54191726e-02  6.98629200e-01]\n",
      "          [-2.15526357e-01 -2.74818611e+00]\n",
      "          [-7.85054415e-02 -4.67327148e-01]\n",
      "          [-1.53441906e-01 -1.06910431e+00]\n",
      "          [-1.44360423e-01 -1.38322365e+00]\n",
      "          [-3.60275134e-02 -3.27690482e-01]\n",
      "          [ 3.17406096e-02  1.45990267e-01]\n",
      "          [-7.47250319e-02 -9.89362955e-01]\n",
      "          [-2.37646356e-01 -2.03331351e+00]\n",
      "          [ 9.63446349e-02  4.08200264e-01]\n",
      "          [ 1.17105968e-01  1.47180200e-01]\n",
      "          [-7.98902363e-02 -1.01853991e+00]\n",
      "          [-3.96151468e-02 -1.44697642e+00]\n",
      "          [ 4.90775220e-02  1.05302167e+00]\n",
      "          [ 8.36599991e-02  1.65344739e+00]\n",
      "          [ 1.41768798e-01  1.78276849e+00]\n",
      "          [-8.11189562e-02  3.01392432e-02]\n",
      "          [ 3.53730842e-02  6.41762689e-02]\n",
      "          [ 1.10043906e-01  1.21999002e+00]\n",
      "          [-2.26433352e-01 -1.34577894e+00]\n",
      "          [-1.66525260e-01 -2.21326685e+00]\n",
      "          [-4.15358087e-03  3.37009728e-01]\n",
      "          [-6.52063489e-02 -4.02003378e-01]\n",
      "          [-3.71192209e-02 -5.94670296e-01]\n",
      "          [-2.16206208e-01 -1.57341969e+00]\n",
      "          [ 1.07667379e-01  6.81092590e-02]\n",
      "          [-5.90565726e-02 -4.96625870e-01]\n",
      "          [-1.14388205e-01 -4.40828681e-01]\n",
      "          [-3.85944508e-02 -4.95329738e-01]\n",
      "          [ 5.78444339e-02  5.90315938e-01]\n",
      "          [-2.52110124e-01 -2.20748186e+00]\n",
      "          [ 1.78886324e-01  1.25702035e+00]\n",
      "          [ 7.64820725e-02  1.21793163e+00]\n",
      "          [ 1.93814382e-01  1.39955628e+00]\n",
      "          [-1.20952018e-01 -9.20575976e-01]\n",
      "          [ 1.26959249e-01  1.23933554e+00]\n",
      "          [-6.01061620e-02 -9.83099699e-01]\n",
      "          [-2.12709144e-01 -1.49785709e+00]\n",
      "          [-1.87233657e-01 -1.12416279e+00]\n",
      "          [-5.16400710e-02 -7.24617600e-01]\n",
      "          [ 1.12072267e-01  1.26269555e+00]\n",
      "          [ 7.44327158e-02  2.39977296e-02]\n",
      "          [ 1.45357597e-04  1.03379679e+00]\n",
      "          [ 1.47857130e-01  1.89209759e+00]\n",
      "          [-6.50379136e-02 -5.00554979e-01]\n",
      "          [-4.30277027e-02  3.84246856e-01]\n",
      "          [ 1.68052360e-01  2.27017045e+00]\n",
      "          [ 8.08792859e-02  4.77232128e-01]\n",
      "          [-3.04530710e-02 -1.59117401e-01]\n",
      "          [ 1.87674671e-01  2.01822710e+00]\n",
      "          [-1.08184934e-01 -7.80590594e-01]\n",
      "          [ 2.14025244e-01  2.07902598e+00]\n",
      "          [ 4.32145186e-02  5.40902615e-01]\n",
      "          [ 1.25038609e-01  1.34986973e+00]\n",
      "          [ 3.61444682e-01  3.33863640e+00]\n",
      "          [ 8.41097608e-02  7.84232140e-01]\n",
      "          [-4.44106087e-02  4.35944110e-01]])\n"
     ]
    }
   ],
   "source": [
    "ydata = model(xdata)\n",
    "print(ydata)"
   ]
  },
  {
   "cell_type": "code",
   "execution_count": 8,
   "id": "cd2bf10b",
   "metadata": {},
   "outputs": [
    {
     "name": "stdout",
     "output_type": "stream",
     "text": [
      "variable(0.18)\n"
     ]
    }
   ],
   "source": [
    "acc = F.accuracy(ydata,tdata)\n",
    "print(acc)"
   ]
  },
  {
   "cell_type": "code",
   "execution_count": 9,
   "id": "256d6925",
   "metadata": {},
   "outputs": [
    {
     "data": {
      "text/plain": [
       "<chainer.optimizers.sgd.SGD at 0x1e23af014f0>"
      ]
     },
     "execution_count": 9,
     "metadata": {},
     "output_type": "execute_result"
    }
   ],
   "source": [
    "optNN = Opt.SGD()\n",
    "optNN.setup(NN)"
   ]
  },
  {
   "cell_type": "code",
   "execution_count": 10,
   "id": "49b5eb35",
   "metadata": {},
   "outputs": [],
   "source": [
    "loss_series = []\n",
    "acc_series = []"
   ]
  },
  {
   "cell_type": "code",
   "execution_count": 11,
   "id": "3ef10501",
   "metadata": {},
   "outputs": [],
   "source": [
    "T = 5000\n",
    "for time in range(T):\n",
    "    config.train = True\n",
    "    optNN.target.zerograds()\n",
    "    ydata = model(xdata)\n",
    "    loss = F.softmax_cross_entropy(ydata,tdata)\n",
    "    acc = F.accuracy(ydata,tdata)\n",
    "    loss.backward()\n",
    "    optNN.update()\n",
    "    loss_series.append(loss.data)\n",
    "    acc_series.append(acc.data)"
   ]
  },
  {
   "cell_type": "code",
   "execution_count": 15,
   "id": "8b526b88",
   "metadata": {},
   "outputs": [
    {
     "data": {
      "image/png": "[encoded data removed]",
      "text/plain": [
       "<Figure size 576x432 with 1 Axes>"
      ]
     },
     "metadata": {
      "needs_background": "light"
     },
     "output_type": "display_data"
    }
   ],
   "source": [
    "Tall = len(loss_series)\n",
    "plt.figure(figsize=(8,6))\n",
    "plt.plot(range(Tall),loss_series)\n",
    "plt.title(\"loss function in training\")\n",
    "plt.xlabel(\"step\")\n",
    "plt.xlim([0,Tall])\n",
    "plt.ylim([0,1])\n",
    "plt.show()"
   ]
  },
  {
   "cell_type": "code",
   "execution_count": 16,
   "id": "0e8ba2e8",
   "metadata": {},
   "outputs": [
    {
     "data": {
      "image/png": "[encoded data removed]",
      "text/plain": [
       "<Figure size 576x432 with 1 Axes>"
      ]
     },
     "metadata": {
      "needs_background": "light"
     },
     "output_type": "display_data"
    }
   ],
   "source": [
    "Tall = len(acc_series)\n",
    "plt.figure(figsize=(8,6))\n",
    "plt.plot(range(Tall),acc_series)\n",
    "plt.title(\"accuracy in training\")\n",
    "plt.xlabel(\"step\")\n",
    "plt.ylabel(\"accuracy\")\n",
    "plt.xlim([0,Tall])\n",
    "plt.ylim([0,1])\n",
    "plt.show()"
   ]
  },
  {
   "cell_type": "code",
   "execution_count": 17,
   "id": "aac64db3",
   "metadata": {},
   "outputs": [],
   "source": [
    "C = 2\n",
    "NN = Chain(l1=L.Linear(N,4),l2=L.Linear(4,C))"
   ]
  },
  {
   "cell_type": "code",
   "execution_count": 18,
   "id": "d49060e3",
   "metadata": {},
   "outputs": [],
   "source": [
    "def model(x):\n",
    "    h = NN.l1(x)\n",
    "    h = F.sigmoid(h)\n",
    "    y = NN.l2(h)\n",
    "    return y"
   ]
  },
  {
   "cell_type": "code",
   "execution_count": 19,
   "id": "a6796630",
   "metadata": {},
   "outputs": [
    {
     "data": {
      "image/png": "[encoded data removed]",
      "text/plain": [
       "<Figure size 576x432 with 1 Axes>"
      ]
     },
     "metadata": {
      "needs_background": "light"
     },
     "output_type": "display_data"
    },
    {
     "data": {
      "image/png": "[encoded data removed]",
      "text/plain": [
       "<Figure size 576x432 with 1 Axes>"
      ]
     },
     "metadata": {
      "needs_background": "light"
     },
     "output_type": "display_data"
    }
   ],
   "source": [
    "optNN = Opt.SGD()\n",
    "optNN.setup(NN)\n",
    "\n",
    "loss_series = []\n",
    "acc_series = []\n",
    "\n",
    "T = 20000\n",
    "for time in range(T):\n",
    "    config.train = True\n",
    "    optNN.target.zerograds()\n",
    "    ydata = model(xdata)\n",
    "    loss = F.softmax_cross_entropy(ydata,tdata)\n",
    "    acc = F.accuracy(ydata,tdata)\n",
    "    loss.backward()\n",
    "    optNN.update()\n",
    "\n",
    "    loss_series.append(loss.data)\n",
    "    acc_series.append(acc.data)\n",
    "\n",
    "Tall = len(loss_series)\n",
    "plt.figure(figsize=(8,6))\n",
    "plt.plot(range(Tall),loss_series)\n",
    "plt.title(\"loss function in training\")\n",
    "plt.xlabel(\"step\")\n",
    "plt.xlim([0,Tall])\n",
    "plt.ylim([0,1])\n",
    "plt.show()\n",
    "    \n",
    "Tall = len(acc_series)\n",
    "plt.figure(figsize=(8,6))\n",
    "plt.plot(range(Tall),acc_series)\n",
    "plt.title(\"accuracy in training\")\n",
    "plt.xlabel(\"step\")\n",
    "plt.ylabel(\"accuracy\")\n",
    "plt.xlim([0,Tall])\n",
    "plt.ylim([0,1])\n",
    "plt.show()"
   ]
  },
  {
   "cell_type": "code",
   "execution_count": null,
   "id": "ce436a24",
   "metadata": {},
   "outputs": [],
   "source": []
  }
 ],
 "metadata": {
  "kernelspec": {
   "display_name": "Python 3",
   "language": "python",
   "name": "python3"
  },
  "language_info": {
   "codemirror_mode": {
    "name": "ipython",
    "version": 3
   },
   "file_extension": ".py",
   "mimetype": "text/x-python",
   "name": "python",
   "nbconvert_exporter": "python",
   "pygments_lexer": "ipython3",
   "version": "3.8.1"
  }
 },
 "nbformat": 4,
 "nbformat_minor": 5
}
